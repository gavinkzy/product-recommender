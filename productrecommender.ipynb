{
 "cells": [
  {
   "cell_type": "markdown",
   "id": "77954d92",
   "metadata": {},
   "source": [
    "# Introduction\n",
    "In the last two decades, E-commerce is becoming wildly popular. Out of the many E-commerce stores, Amazon is capturing a lot of the market share. For instance, in 2021, Amazon has > 450 billion USD in revenue. Up to 2021, Amazon's year on year gross revenue has been increasing. One of the ways of increasing revenue in an E-commerce store is to make sure that the customer gets recommended a highly relevant product out of the noisy marketplace. A basic customer journey starts from opening a browser or mobile app, then signing in, followed by browsing products, adding to cart, and finally checking out. This project focuses on recommending the most relevant products.\n",
    "\n",
    "Common types of filtering techniques include collaborative, content-based, demographic, utility, knowledge-based, and hybrid recommender systems.\n",
    "\n",
    "A raw dataset is taken from Kaggle. The data contains 497,577 rows of ratings of Amazon's Video Game category."
   ]
  },
  {
   "cell_type": "code",
   "execution_count": 2,
   "id": "d08f7245",
   "metadata": {
    "scrolled": true
   },
   "outputs": [],
   "source": [
    "#Read in the raw data and store as a dataframe\n",
    "import pandas as pd\n",
    "import numpy as np\n",
    "df = pd.read_json('video_games_dataset.json',lines=True)\n",
    "pd.set_option(\"display.max.columns\", None)\n",
    "df.head()\n",
    "\n",
    "import warnings\n",
    "warnings.filterwarnings('ignore')"
   ]
  },
  {
   "cell_type": "markdown",
   "id": "29a9bc85",
   "metadata": {},
   "source": [
    "To ensure that the review text is a string that can be processed by NLP techniques, we change the data type to a string."
   ]
  },
  {
   "cell_type": "code",
   "execution_count": 4,
   "id": "74ae0915",
   "metadata": {
    "scrolled": false
   },
   "outputs": [],
   "source": [
    "#Set column type\n",
    "df['reviewText'] = df['reviewText'].astype(\"string\")"
   ]
  },
  {
   "cell_type": "markdown",
   "id": "721f1cb0",
   "metadata": {},
   "source": [
    "# Data Understanding\n",
    "- Check whether empty rows exist: They do."
   ]
  },
  {
   "cell_type": "code",
   "execution_count": 6,
   "id": "b7ee1310",
   "metadata": {
    "scrolled": false
   },
   "outputs": [
    {
     "data": {
      "text/plain": [
       "overall             0\n",
       "verified            0\n",
       "reviewTime          0\n",
       "reviewerID          0\n",
       "asin                0\n",
       "reviewerName        0\n",
       "reviewText        158\n",
       "summary             6\n",
       "unixReviewTime      0\n",
       "vote              149\n",
       "style              44\n",
       "image             124\n",
       "dtype: int64"
      ]
     },
     "execution_count": 6,
     "metadata": {},
     "output_type": "execute_result"
    }
   ],
   "source": [
    "df.loc[df['reviewText'].isnull()].isnull().sum()"
   ]
  },
  {
   "cell_type": "markdown",
   "id": "ec6e0fdc",
   "metadata": {},
   "source": [
    "### Store reviews text in a separate DataFrame"
   ]
  },
  {
   "cell_type": "code",
   "execution_count": 7,
   "id": "fe80fcfa",
   "metadata": {},
   "outputs": [],
   "source": [
    "reviews_df = df.groupby('reviewerID')['reviewText'].unique().str.join(' ').reset_index()"
   ]
  },
  {
   "cell_type": "markdown",
   "id": "fd8abf02",
   "metadata": {},
   "source": [
    "### Remove empty rows"
   ]
  },
  {
   "cell_type": "code",
   "execution_count": 8,
   "id": "8155f36e",
   "metadata": {},
   "outputs": [],
   "source": [
    "# Remove empty rows from reviews_text\n",
    "reviews_df.dropna(\n",
    "    axis=0,\n",
    "    how='any',\n",
    "    thresh=None,\n",
    "    subset=None,\n",
    "    inplace=True\n",
    ")"
   ]
  },
  {
   "cell_type": "markdown",
   "id": "7ecf5881",
   "metadata": {},
   "source": [
    "### Reduce data size due to computational restrictions - we take the first 25,000 rows of data"
   ]
  },
  {
   "cell_type": "code",
   "execution_count": 11,
   "id": "140b1986",
   "metadata": {
    "scrolled": false
   },
   "outputs": [
    {
     "data": {
      "text/html": [
       "<div>\n",
       "<style scoped>\n",
       "    .dataframe tbody tr th:only-of-type {\n",
       "        vertical-align: middle;\n",
       "    }\n",
       "\n",
       "    .dataframe tbody tr th {\n",
       "        vertical-align: top;\n",
       "    }\n",
       "\n",
       "    .dataframe thead th {\n",
       "        text-align: right;\n",
       "    }\n",
       "</style>\n",
       "<table border=\"1\" class=\"dataframe\">\n",
       "  <thead>\n",
       "    <tr style=\"text-align: right;\">\n",
       "      <th></th>\n",
       "      <th>reviewerID</th>\n",
       "      <th>reviewText</th>\n",
       "    </tr>\n",
       "  </thead>\n",
       "  <tbody>\n",
       "    <tr>\n",
       "      <th>0</th>\n",
       "      <td>A0059486XI1Z0P98KP35</td>\n",
       "      <td>This game is just incredible, and a must-have ...</td>\n",
       "    </tr>\n",
       "    <tr>\n",
       "      <th>1</th>\n",
       "      <td>A0220159ZRNBTRKLG08H</td>\n",
       "      <td>Im still not sure why my son plays the old gam...</td>\n",
       "    </tr>\n",
       "    <tr>\n",
       "      <th>2</th>\n",
       "      <td>A0266076X6KPZ6CCHGVS</td>\n",
       "      <td>Very satisfied customer! This game is awesome ...</td>\n",
       "    </tr>\n",
       "    <tr>\n",
       "      <th>3</th>\n",
       "      <td>A0277912HT4JSJKVSL3E</td>\n",
       "      <td>This game is cool but i hate the fact that you...</td>\n",
       "    </tr>\n",
       "    <tr>\n",
       "      <th>4</th>\n",
       "      <td>A02836981FYG9912C66F</td>\n",
       "      <td>It seems to be a good mouse but I have medium ...</td>\n",
       "    </tr>\n",
       "    <tr>\n",
       "      <th>...</th>\n",
       "      <td>...</td>\n",
       "      <td>...</td>\n",
       "    </tr>\n",
       "    <tr>\n",
       "      <th>25024</th>\n",
       "      <td>A2PT8P1A6VFHQC</td>\n",
       "      <td>My First Mouse from razer. the middle scroll w...</td>\n",
       "    </tr>\n",
       "    <tr>\n",
       "      <th>25025</th>\n",
       "      <td>A2PT9EOW0Z6DLM</td>\n",
       "      <td>Splinter cell is awesome game,very good graphi...</td>\n",
       "    </tr>\n",
       "    <tr>\n",
       "      <th>25026</th>\n",
       "      <td>A2PTCBGX667A2R</td>\n",
       "      <td>played for 5 min then pinched myself to try to...</td>\n",
       "    </tr>\n",
       "    <tr>\n",
       "      <th>25027</th>\n",
       "      <td>A2PTCR39FH9GLM</td>\n",
       "      <td>Underrated Classic Best persona game in my opi...</td>\n",
       "    </tr>\n",
       "    <tr>\n",
       "      <th>25028</th>\n",
       "      <td>A2PTMECVJG55SW</td>\n",
       "      <td>Is a awesome specimen of a system I bought it ...</td>\n",
       "    </tr>\n",
       "  </tbody>\n",
       "</table>\n",
       "<p>25000 rows × 2 columns</p>\n",
       "</div>"
      ],
      "text/plain": [
       "                 reviewerID                                         reviewText\n",
       "0      A0059486XI1Z0P98KP35  This game is just incredible, and a must-have ...\n",
       "1      A0220159ZRNBTRKLG08H  Im still not sure why my son plays the old gam...\n",
       "2      A0266076X6KPZ6CCHGVS  Very satisfied customer! This game is awesome ...\n",
       "3      A0277912HT4JSJKVSL3E  This game is cool but i hate the fact that you...\n",
       "4      A02836981FYG9912C66F  It seems to be a good mouse but I have medium ...\n",
       "...                     ...                                                ...\n",
       "25024        A2PT8P1A6VFHQC  My First Mouse from razer. the middle scroll w...\n",
       "25025        A2PT9EOW0Z6DLM  Splinter cell is awesome game,very good graphi...\n",
       "25026        A2PTCBGX667A2R  played for 5 min then pinched myself to try to...\n",
       "25027        A2PTCR39FH9GLM  Underrated Classic Best persona game in my opi...\n",
       "25028        A2PTMECVJG55SW  Is a awesome specimen of a system I bought it ...\n",
       "\n",
       "[25000 rows x 2 columns]"
      ]
     },
     "execution_count": 11,
     "metadata": {},
     "output_type": "execute_result"
    }
   ],
   "source": [
    "# reduce data size due to computational restrictions\n",
    "reviews_df['reviewText'] = reviews_df['reviewText'].astype(\"string\")\n",
    "reduced_reviews_df = reviews_df.iloc[0:25000]\n",
    "reduced_reviews_df"
   ]
  },
  {
   "cell_type": "code",
   "execution_count": 12,
   "id": "0cf908b8",
   "metadata": {
    "scrolled": false
   },
   "outputs": [
    {
     "data": {
      "text/plain": [
       "(array([ 30883.,      0.,  24135.,      0.,      0.,  49146.,      0.,\n",
       "         93654.,      0., 299759.]),\n",
       " array([1. , 1.4, 1.8, 2.2, 2.6, 3. , 3.4, 3.8, 4.2, 4.6, 5. ]),\n",
       " <BarContainer object of 10 artists>)"
      ]
     },
     "execution_count": 12,
     "metadata": {},
     "output_type": "execute_result"
    },
    {
     "data": {
      "image/png": "[encoded data removed]",
      "text/plain": [
       "<Figure size 432x288 with 1 Axes>"
      ]
     },
     "metadata": {
      "needs_background": "light"
     },
     "output_type": "display_data"
    }
   ],
   "source": [
    "import matplotlib.pyplot as plt\n",
    "plt.hist(df['overall'])"
   ]
  },
  {
   "cell_type": "markdown",
   "id": "39a1c12d",
   "metadata": {},
   "source": [
    "### We can see that majority of the ratings are above 4.5, meaning many of our product recommendations will be based on popular items."
   ]
  },
  {
   "cell_type": "code",
   "execution_count": 25,
   "id": "254fab33",
   "metadata": {
    "scrolled": false
   },
   "outputs": [
    {
     "name": "stderr",
     "output_type": "stream",
     "text": [
      "[nltk_data] Downloading package omw-1.4 to\n",
      "[nltk_data]     C:\\Users\\gavin\\AppData\\Roaming\\nltk_data...\n",
      "[nltk_data]   Package omw-1.4 is already up-to-date!\n",
      "[nltk_data] Downloading package punkt to\n",
      "[nltk_data]     C:\\Users\\gavin\\AppData\\Roaming\\nltk_data...\n",
      "[nltk_data]   Package punkt is already up-to-date!\n",
      "[nltk_data] Downloading package averaged_perceptron_tagger to\n",
      "[nltk_data]     C:\\Users\\gavin\\AppData\\Roaming\\nltk_data...\n",
      "[nltk_data]   Package averaged_perceptron_tagger is already up-to-\n",
      "[nltk_data]       date!\n",
      "[nltk_data] Downloading package wordnet to\n",
      "[nltk_data]     C:\\Users\\gavin\\AppData\\Roaming\\nltk_data...\n",
      "[nltk_data]   Package wordnet is already up-to-date!\n",
      "[nltk_data] Downloading package stopwords to\n",
      "[nltk_data]     C:\\Users\\gavin\\AppData\\Roaming\\nltk_data...\n",
      "[nltk_data]   Package stopwords is already up-to-date!\n"
     ]
    },
    {
     "data": {
      "text/plain": [
       "0    game incredible smt fan strategy jrpg good one...\n",
       "1    im still sure son play old game cube love game...\n",
       "2    satisfied customer game awesome get christmas ...\n",
       "3    game cool hate fact online order play fell lov...\n",
       "4    seem good mouse medium size hand still feel ki...\n",
       "Name: preprocessed, dtype: object"
      ]
     },
     "execution_count": 25,
     "metadata": {},
     "output_type": "execute_result"
    }
   ],
   "source": [
    "import nltk\n",
    "nltk.download('omw-1.4')\n",
    "nltk.download('punkt')\n",
    "nltk.download('averaged_perceptron_tagger')\n",
    "nltk.download('wordnet')\n",
    "\n",
    "from nltk.stem import WordNetLemmatizer\n",
    "from nltk.corpus import wordnet\n",
    "wordnet_lem = WordNetLemmatizer()\n",
    "\n",
    "from nltk.corpus import stopwords\n",
    "nltk.download('stopwords')\n",
    "stopwords_vocab = stopwords.words('english')\n",
    "\n",
    "VERB_CODES = {'VB', 'VBD', 'VBG', 'VBN', 'VBP', 'VBZ'}\n",
    "\n",
    "def preprocess(text):\n",
    "    # lower case text\n",
    "    text = text.lower()\n",
    "    temp_list = []\n",
    "    # tokenization\n",
    "    words = nltk.word_tokenize(text)\n",
    "    # pos tagging for each token\n",
    "    tags = nltk.pos_tag(words)\n",
    "    for i, word in enumerate(words):\n",
    "        if tags[i][1] in VERB_CODES:\n",
    "            lemmatized = wordnet_lem.lemmatize(word, 'v')\n",
    "        else:\n",
    "            lemmatized = wordnet_lem.lemmatize(word)\n",
    "        if lemmatized not in stopwords_vocab and lemmatized.isalpha():\n",
    "            temp_list.append(lemmatized)\n",
    "          \n",
    "    finalString = ' '.join(temp_list)\n",
    "    finalString = finalString.replace(\"n't\", \" not\")\n",
    "    finalString = finalString.replace(\"'m\", \" am\")\n",
    "    finalString = finalString.replace(\"'s\", \" is\")\n",
    "    finalString = finalString.replace(\"'re\", \" are\")\n",
    "    finalString = finalString.replace(\"'ll\", \" will\")\n",
    "    finalString = finalString.replace(\"'ve\", \" have\")\n",
    "    finalString = finalString.replace(\"'d\", \" would\")\n",
    "    finalString = finalString.replace(\"\\n\", \"\")\n",
    "    return finalString\n",
    "\n",
    "reduced_reviews_df['preprocessed']= reduced_reviews_df['reviewText'].apply(preprocess)\n",
    "reduced_reviews_df['preprocessed'].head()"
   ]
  },
  {
   "cell_type": "markdown",
   "id": "7728fc15",
   "metadata": {},
   "source": [
    "### Here we do the necessary text preprocessing steps and store the preprocessed text as a column in a DataFrame\n",
    "Steps are: Lowering of letters, tokenization, lemmatization, removal of stopwords, and the unique replacement of words such as commmon short form words like n't to not."
   ]
  },
  {
   "cell_type": "code",
   "execution_count": 26,
   "id": "155dcc2b",
   "metadata": {
    "scrolled": false
   },
   "outputs": [
    {
     "name": "stderr",
     "output_type": "stream",
     "text": [
      "[nltk_data] Downloading package vader_lexicon to\n",
      "[nltk_data]     C:\\Users\\gavin\\AppData\\Roaming\\nltk_data...\n",
      "[nltk_data]   Package vader_lexicon is already up-to-date!\n"
     ]
    },
    {
     "data": {
      "image/png": "[encoded data removed]",
      "text/plain": [
       "<Figure size 432x288 with 1 Axes>"
      ]
     },
     "metadata": {
      "needs_background": "light"
     },
     "output_type": "display_data"
    }
   ],
   "source": [
    "#VADER Sentiment Analysis\n",
    "import nltk\n",
    "nltk.download('vader_lexicon')\n",
    "from nltk.sentiment.vader import SentimentIntensityAnalyzer\n",
    "sentiment = SentimentIntensityAnalyzer()\n",
    "def giveSentimentScore(text):\n",
    "    return sentiment.polarity_scores(text)['compound']\n",
    "reduced_reviews_df['sentiment'] = reduced_reviews_df['reviewText'].apply(giveSentimentScore)\n",
    "\n",
    "import matplotlib.pyplot as plt\n",
    "fig = plt.hist(reduced_reviews_df['sentiment'])"
   ]
  },
  {
   "cell_type": "markdown",
   "id": "8f0c278f",
   "metadata": {},
   "source": [
    "We can see from the results from VADER Sentiment Analysis that the reviews are mostly positive (majority of our recommendations will contain popular products).\n"
   ]
  },
  {
   "cell_type": "markdown",
   "id": "b2029116",
   "metadata": {},
   "source": [
    "## Vectorize the reviews text"
   ]
  },
  {
   "cell_type": "code",
   "execution_count": 28,
   "id": "8caff77e",
   "metadata": {
    "scrolled": false
   },
   "outputs": [],
   "source": [
    "from sklearn.feature_extraction.text import TfidfVectorizer\n",
    "\n",
    "tfidf = TfidfVectorizer()\n",
    "dtm = tfidf.fit_transform(reduced_reviews_df['preprocessed'])"
   ]
  },
  {
   "cell_type": "markdown",
   "id": "87645434",
   "metadata": {},
   "source": [
    "## Constructing the Cosine Similarity matrix"
   ]
  },
  {
   "cell_type": "code",
   "execution_count": 30,
   "id": "aa3ab64c",
   "metadata": {
    "scrolled": false
   },
   "outputs": [],
   "source": [
    "# cosine similarity between vectors\n",
    "from sklearn.metrics.pairwise import cosine_similarity\n",
    "cosine_sim = cosine_similarity(dtm, dtm)"
   ]
  },
  {
   "cell_type": "code",
   "execution_count": 31,
   "id": "bea6979f",
   "metadata": {
    "scrolled": false
   },
   "outputs": [],
   "source": [
    "# Storing indices of the data\n",
    "indices = pd.Series(reviews_df['reviewerID'])\n",
    "  \n",
    "def recommendations(user, cosine_sim = cosine_sim):\n",
    "    recommmended_users = []\n",
    "    index = indices[indices == user].index[0]\n",
    "    similarity_scores = pd.Series(cosine_sim[index]).sort_values(ascending = False)\n",
    "    top_10_users = list(similarity_scores.iloc[1:11].index)\n",
    "    for i in top_10_users:\n",
    "        recommmended_users.append(list(df.index)[i])\n",
    "    return recommmended_users"
   ]
  },
  {
   "cell_type": "markdown",
   "id": "b873a4de",
   "metadata": {},
   "source": [
    "## Get recommendation\n",
    "Based on a given user, we can obtain the top 10 recommendations."
   ]
  },
  {
   "cell_type": "code",
   "execution_count": 32,
   "id": "8b06d3fd",
   "metadata": {
    "scrolled": true
   },
   "outputs": [
    {
     "name": "stdout",
     "output_type": "stream",
     "text": [
      "B00004W4QV\n",
      "B00004SVYE\n",
      "B00002SX0E\n",
      "B00004SVYQ\n",
      "B00000J2W7\n",
      "B00002SUAD\n",
      "B0000503MO\n",
      "B00004TBGT\n",
      "B00001XDK5\n",
      "B00002STYC\n"
     ]
    }
   ],
   "source": [
    "# Get top 10 recommended similar customers for a specific user, i.e. A1HP7NVNPFMA4N\n",
    "listOfSimCusts = recommendations('A0266076X6KPZ6CCHGVS')\n",
    "\n",
    "# Get top 10 recommended products\n",
    "for i in listOfSimCusts:\n",
    "    print(df.loc[i]['asin'])"
   ]
  },
  {
   "cell_type": "markdown",
   "id": "17cc2dd9",
   "metadata": {},
   "source": [
    "## Conclusion\n",
    "Further steps can be taken to take into account the accuracy of this model such as splitting the dataset into train-test data, having a more balanced dataset that contains a more balanced sentiment, as well as adding other supervised/unsupervised learning algorithms in the mix to improve the model accuracy."
   ]
  },
  {
   "cell_type": "code",
   "execution_count": null,
   "id": "5113c9b6",
   "metadata": {},
   "outputs": [],
   "source": []
  }
 ],
 "metadata": {
  "celltoolbar": "Raw Cell Format",
  "kernelspec": {
   "display_name": "Python 3 (ipykernel)",
   "language": "python",
   "name": "python3"
  },
  "language_info": {
   "codemirror_mode": {
    "name": "ipython",
    "version": 3
   },
   "file_extension": ".py",
   "mimetype": "text/x-python",
   "name": "python",
   "nbconvert_exporter": "python",
   "pygments_lexer": "ipython3",
   "version": "3.9.12"
  }
 },
 "nbformat": 4,
 "nbformat_minor": 5
}
